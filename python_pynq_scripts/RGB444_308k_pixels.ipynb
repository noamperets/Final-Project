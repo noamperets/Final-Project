{
 "cells": [
  {
   "cell_type": "code",
   "execution_count": 1,
   "id": "1372e14f-f69d-4de0-afdd-874bc7c5e8b7",
   "metadata": {},
   "outputs": [
    {
     "data": {
      "application/javascript": [
       "\n",
       "try {\n",
       "require(['notebook/js/codecell'], function(codecell) {\n",
       "  codecell.CodeCell.options_default.highlight_modes[\n",
       "      'magic_text/x-csrc'] = {'reg':[/^%%microblaze/]};\n",
       "  Jupyter.notebook.events.one('kernel_ready.Kernel', function(){\n",
       "      Jupyter.notebook.get_cells().map(function(cell){\n",
       "          if (cell.cell_type == 'code'){ cell.auto_highlight(); } }) ;\n",
       "  });\n",
       "});\n",
       "} catch (e) {};\n"
      ]
     },
     "metadata": {},
     "output_type": "display_data"
    },
    {
     "data": {
      "application/javascript": [
       "\n",
       "try {\n",
       "require(['notebook/js/codecell'], function(codecell) {\n",
       "  codecell.CodeCell.options_default.highlight_modes[\n",
       "      'magic_text/x-csrc'] = {'reg':[/^%%pybind11/]};\n",
       "  Jupyter.notebook.events.one('kernel_ready.Kernel', function(){\n",
       "      Jupyter.notebook.get_cells().map(function(cell){\n",
       "          if (cell.cell_type == 'code'){ cell.auto_highlight(); } }) ;\n",
       "  });\n",
       "});\n",
       "} catch (e) {};\n"
      ]
     },
     "metadata": {},
     "output_type": "display_data"
    }
   ],
   "source": [
    "from pynq import Overlay, MMIO\n",
    "import numpy as np\n",
    "from PIL import Image\n",
    "\n",
    "# Load the bitstream onto the FPGA\n",
    "overlay = Overlay(\"./design_1.bit\")\n",
    "\n",
    "# Base address and size\n",
    "base_address = 0x00A0000000\n",
    "image_size = 640 * 480  # Total number of pixels\n",
    "total_bytes = image_size * 2  # Each RGB444 value is 2 bytes\n",
    "\n",
    "# Create MMIO object to read from the specified address\n",
    "mmio = MMIO(base_address, total_bytes)\n",
    "\n",
    "# Read all BRAM content and save to file\n",
    "with open('camera_444.bin', 'wb') as f:\n",
    "    for i in range(0, total_bytes, 4):\n",
    "        data = mmio.read(i)\n",
    "        f.write(data.to_bytes(4, byteorder='little'))\n",
    "\n",
    "# Read the data from the FPGA memory in chunks of 4 bytes\n",
    "data = bytearray()\n",
    "for i in range(0, total_bytes, 4):\n",
    "    value = mmio.read(i, 4)\n",
    "    data.extend(value.to_bytes(4, 'little'))\n",
    "\n",
    "# Function to convert RGB444 to RGB888\n",
    "def rgb444_to_rgb888(data):\n",
    "    rgb888 = np.zeros((480, 640, 3), dtype=np.uint8)\n",
    "    for i in range(480):\n",
    "        for j in range(640):\n",
    "            index = (i * 640 + j) * 2\n",
    "            if index + 1 < len(data):\n",
    "                rgb444 = (data[index + 1] << 8) | data[index]\n",
    "                r = ((rgb444 >> 8) & 0xF) * 17\n",
    "                g = ((rgb444 >> 4) & 0xF) * 17\n",
    "                b = (rgb444 & 0xF) * 17\n",
    "                rgb888[i, j] = [r, g, b]\n",
    "    return rgb888\n",
    "\n",
    "# Convert the data\n",
    "rgb888_data = rgb444_to_rgb888(data)\n",
    "\n",
    "# Create an image from the RGB data\n",
    "image = Image.fromarray(rgb888_data, 'RGB')\n",
    "\n",
    "# Save the image as a JPEG file\n",
    "image.save(\"output_image.jpg\")"
   ]
  },
  {
   "cell_type": "code",
   "execution_count": 2,
   "id": "e884ee91-ebcc-4de5-abae-4a7a7fc94963",
   "metadata": {},
   "outputs": [],
   "source": [
    "from pynq import Overlay, MMIO\n",
    "import numpy as np\n",
    "from PIL import Image\n",
    "\n",
    "# Load the bitstream onto the FPGA\n",
    "overlay = Overlay(\"./design_1.bit\")\n",
    "\n",
    "# Base address and size\n",
    "base_address = 0x00A0000000\n",
    "image_width = 640\n",
    "image_height = 480\n",
    "num_pixels = image_width * image_height\n",
    "total_bytes = num_pixels * 2  # Each RGB444 value is 2 bytes\n",
    "\n",
    "# Create MMIO object to read from the specified address\n",
    "mmio = MMIO(base_address, total_bytes)\n",
    "\n",
    "# Read the data from the FPGA memory in chunks of 4 bytes\n",
    "data = np.zeros(num_pixels, dtype=np.uint16)\n",
    "for i in range(0, total_bytes, 4):\n",
    "    value = mmio.read(i, 4)\n",
    "    # Extract only the least significant 12 bits\n",
    "    data[i // 2] = value & 0xFFF  # 12 bits\n",
    "\n",
    "# Function to convert RGB444 to RGB888\n",
    "def rgb444_to_rgb888(data, width, height):\n",
    "    rgb888 = np.zeros((height, width, 3), dtype=np.uint8)\n",
    "    for i in range(height):\n",
    "        for j in range(width):\n",
    "            index = i * width + j\n",
    "            rgb444 = data[index]\n",
    "            r = ((rgb444 >> 8) & 0xF) * 17\n",
    "            g = ((rgb444 >> 4) & 0xF) * 17\n",
    "            b = (rgb444 & 0xF) * 17\n",
    "            rgb888[i, j] = [r, g, b]\n",
    "    return rgb888\n",
    "\n",
    "# Convert the data\n",
    "rgb888_data = rgb444_to_rgb888(data, image_width, image_height)\n",
    "\n",
    "# Create an image from the RGB data\n",
    "image = Image.fromarray(rgb888_data, 'RGB')\n",
    "\n",
    "# Save the image as a JPEG file\n",
    "image.save(\"output_image.jpg\")\n"
   ]
  },
  {
   "cell_type": "code",
   "execution_count": null,
   "id": "e7082fe4-335f-479a-8cf1-9061692ba193",
   "metadata": {},
   "outputs": [],
   "source": []
  }
 ],
 "metadata": {
  "kernelspec": {
   "display_name": "Python 3 (ipykernel)",
   "language": "python",
   "name": "python3"
  },
  "language_info": {
   "codemirror_mode": {
    "name": "ipython",
    "version": 3
   },
   "file_extension": ".py",
   "mimetype": "text/x-python",
   "name": "python",
   "nbconvert_exporter": "python",
   "pygments_lexer": "ipython3",
   "version": "3.10.4"
  }
 },
 "nbformat": 4,
 "nbformat_minor": 5
}
