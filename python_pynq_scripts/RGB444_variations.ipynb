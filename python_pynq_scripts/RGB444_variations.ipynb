{
 "cells": [
  {
   "cell_type": "code",
   "execution_count": 1,
   "id": "87edcb4e-1a77-4cd9-986d-234cce1e18da",
   "metadata": {},
   "outputs": [
    {
     "data": {
      "application/javascript": [
       "\n",
       "try {\n",
       "require(['notebook/js/codecell'], function(codecell) {\n",
       "  codecell.CodeCell.options_default.highlight_modes[\n",
       "      'magic_text/x-csrc'] = {'reg':[/^%%microblaze/]};\n",
       "  Jupyter.notebook.events.one('kernel_ready.Kernel', function(){\n",
       "      Jupyter.notebook.get_cells().map(function(cell){\n",
       "          if (cell.cell_type == 'code'){ cell.auto_highlight(); } }) ;\n",
       "  });\n",
       "});\n",
       "} catch (e) {};\n"
      ]
     },
     "metadata": {},
     "output_type": "display_data"
    },
    {
     "data": {
      "application/javascript": [
       "\n",
       "try {\n",
       "require(['notebook/js/codecell'], function(codecell) {\n",
       "  codecell.CodeCell.options_default.highlight_modes[\n",
       "      'magic_text/x-csrc'] = {'reg':[/^%%pybind11/]};\n",
       "  Jupyter.notebook.events.one('kernel_ready.Kernel', function(){\n",
       "      Jupyter.notebook.get_cells().map(function(cell){\n",
       "          if (cell.cell_type == 'code'){ cell.auto_highlight(); } }) ;\n",
       "  });\n",
       "});\n",
       "} catch (e) {};\n"
      ]
     },
     "metadata": {},
     "output_type": "display_data"
    },
    {
     "name": "stdout",
     "output_type": "stream",
     "text": [
      "Saved captured_image_rgb.png\n",
      "Saved captured_image_grb.png\n",
      "Saved captured_image_bgr.png\n",
      "Saved captured_image_brg.png\n",
      "Saved captured_image_gbr.png\n",
      "Saved captured_image_rbg.png\n"
     ]
    }
   ],
   "source": [
    "from pynq import Overlay, MMIO\n",
    "import numpy as np\n",
    "from PIL import Image\n",
    "import matplotlib.pyplot as plt\n",
    "\n",
    "# Load the bitstream\n",
    "ol = Overlay(\"./design_1.bit\")\n",
    "\n",
    "# Define the BRAM base address and size\n",
    "bram_base_address = 0xA0000000\n",
    "bram_size = 1228800  # 1.2MB\n",
    "\n",
    "# Create an MMIO instance for the BRAM\n",
    "bram = MMIO(bram_base_address, bram_size)\n",
    "\n",
    "# Define the image dimensions\n",
    "image_width = 400\n",
    "image_height = 384\n",
    "\n",
    "# Calculate the number of pixels expected\n",
    "expected_pixel_count = image_width * image_height\n",
    "\n",
    "# Define possible channel orders\n",
    "channel_orders = [\n",
    "    ('r', 'g', 'b'),  # RGB\n",
    "    ('g', 'r', 'b'),  # GRB\n",
    "    ('b', 'g', 'r'),  # BGR\n",
    "    ('b', 'r', 'g'),  # BRG\n",
    "    ('g', 'b', 'r'),  # GBR\n",
    "    ('r', 'b', 'g')   # RBG\n",
    "]\n",
    "\n",
    "for order in channel_orders:\n",
    "    # Read the BRAM content and extract the 12-bit pixels\n",
    "    pixels = []\n",
    "    for i in range(0, bram_size, 4):\n",
    "        data = bram.read(i)\n",
    "        if len(pixels) >= expected_pixel_count:  # Stop reading when we have enough pixels\n",
    "            break\n",
    "        # Extract the 12-bit pixel based on the order\n",
    "        color_map = {'r': (data >> 8) & 0xF, 'g': (data >> 4) & 0xF, 'b': data & 0xF}\n",
    "        r = (color_map[order[0]] << 4) | color_map[order[0]]\n",
    "        g = (color_map[order[1]] << 4) | color_map[order[1]]\n",
    "        b = (color_map[order[2]] << 4) | color_map[order[2]]\n",
    "        pixels.append((r, g, b))\n",
    "\n",
    "    # Ensure the number of pixels matches the expected pixel count\n",
    "    if len(pixels) != expected_pixel_count:\n",
    "        print(f\"Skipping {order} due to pixel count mismatch: {len(pixels)}\")\n",
    "        continue\n",
    "\n",
    "    # Convert the list of pixels to a NumPy array and reshape it to the original image dimensions\n",
    "    image_array = np.array(pixels, dtype=np.uint8).reshape((image_height, image_width, 3))\n",
    "\n",
    "    # Save the image using PIL\n",
    "    image = Image.fromarray(image_array)\n",
    "    image.save(f\"./captured_image_{order[0]}{order[1]}{order[2]}.png\")\n",
    "    print(f\"Saved captured_image_{order[0]}{order[1]}{order[2]}.png\")\n"
   ]
  },
  {
   "cell_type": "code",
   "execution_count": null,
   "id": "0d9a57dc-7d22-4aa6-9f61-99fc2d78ef83",
   "metadata": {},
   "outputs": [],
   "source": []
  }
 ],
 "metadata": {
  "kernelspec": {
   "display_name": "Python 3 (ipykernel)",
   "language": "python",
   "name": "python3"
  },
  "language_info": {
   "codemirror_mode": {
    "name": "ipython",
    "version": 3
   },
   "file_extension": ".py",
   "mimetype": "text/x-python",
   "name": "python",
   "nbconvert_exporter": "python",
   "pygments_lexer": "ipython3",
   "version": "3.10.4"
  }
 },
 "nbformat": 4,
 "nbformat_minor": 5
}
