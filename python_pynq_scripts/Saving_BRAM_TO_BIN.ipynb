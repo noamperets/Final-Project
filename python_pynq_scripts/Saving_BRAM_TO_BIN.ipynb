{
 "cells": [
  {
   "cell_type": "code",
   "execution_count": 1,
   "id": "b5c8ce35-3ebf-428a-8fd6-3b3c2b7bcdff",
   "metadata": {},
   "outputs": [
    {
     "data": {
      "application/javascript": [
       "\n",
       "try {\n",
       "require(['notebook/js/codecell'], function(codecell) {\n",
       "  codecell.CodeCell.options_default.highlight_modes[\n",
       "      'magic_text/x-csrc'] = {'reg':[/^%%microblaze/]};\n",
       "  Jupyter.notebook.events.one('kernel_ready.Kernel', function(){\n",
       "      Jupyter.notebook.get_cells().map(function(cell){\n",
       "          if (cell.cell_type == 'code'){ cell.auto_highlight(); } }) ;\n",
       "  });\n",
       "});\n",
       "} catch (e) {};\n"
      ]
     },
     "metadata": {},
     "output_type": "display_data"
    },
    {
     "data": {
      "application/javascript": [
       "\n",
       "try {\n",
       "require(['notebook/js/codecell'], function(codecell) {\n",
       "  codecell.CodeCell.options_default.highlight_modes[\n",
       "      'magic_text/x-csrc'] = {'reg':[/^%%pybind11/]};\n",
       "  Jupyter.notebook.events.one('kernel_ready.Kernel', function(){\n",
       "      Jupyter.notebook.get_cells().map(function(cell){\n",
       "          if (cell.cell_type == 'code'){ cell.auto_highlight(); } }) ;\n",
       "  });\n",
       "});\n",
       "} catch (e) {};\n"
      ]
     },
     "metadata": {},
     "output_type": "display_data"
    },
    {
     "name": "stdout",
     "output_type": "stream",
     "text": [
      "BRAM data saved to bram_contents.bin\n"
     ]
    }
   ],
   "source": [
    "from pynq import Overlay, MMIO\n",
    "import numpy as np\n",
    "\n",
    "# Load the bitstream\n",
    "ol = Overlay(\"./design_1.bit\")\n",
    "\n",
    "# Define the BRAM base address and size (2MB)\n",
    "bram_base_address = 0xA0000000\n",
    "bram_size = 2 * 1024 * 1024  # 2MB in bytes\n",
    "\n",
    "# Create an MMIO instance for the BRAM\n",
    "bram = MMIO(bram_base_address, bram_size)\n",
    "\n",
    "# Calculate the number of 32-bit words to read\n",
    "num_words = bram_size // 4\n",
    "\n",
    "# Read the entire BRAM in 32-bit words and store it in a NumPy array\n",
    "bram_data = np.zeros(bram_size, dtype=np.uint8)\n",
    "\n",
    "for i in range(num_words):\n",
    "    word = bram.read(i * 4)  # Read 4 bytes at a time (1 word)\n",
    "    bram_data[i * 4:(i + 1) * 4] = np.frombuffer(word.to_bytes(4, byteorder='little'), dtype=np.uint8)\n",
    "\n",
    "# Save the BRAM data to a .bin file\n",
    "bram_data.tofile(\"bram_contents.bin\")\n",
    "\n",
    "print(\"BRAM data saved to bram_contents.bin\")\n"
   ]
  },
  {
   "cell_type": "code",
   "execution_count": null,
   "id": "6c116d86-994c-4457-9511-9f4262d70c3c",
   "metadata": {},
   "outputs": [],
   "source": []
  }
 ],
 "metadata": {
  "kernelspec": {
   "display_name": "Python 3 (ipykernel)",
   "language": "python",
   "name": "python3"
  },
  "language_info": {
   "codemirror_mode": {
    "name": "ipython",
    "version": 3
   },
   "file_extension": ".py",
   "mimetype": "text/x-python",
   "name": "python",
   "nbconvert_exporter": "python",
   "pygments_lexer": "ipython3",
   "version": "3.10.4"
  }
 },
 "nbformat": 4,
 "nbformat_minor": 5
}
